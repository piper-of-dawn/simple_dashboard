{
 "cells": [
  {
   "cell_type": "code",
   "execution_count": 8,
   "metadata": {},
   "outputs": [
    {
     "data": {
      "text/plain": [
       "[{'key': 'data0',\n",
       "  'density': [[-11.93579935740496, 7.86436613688698e-55],\n",
       "   [-9.247732465321878, 2.4498520762242614e-10],\n",
       "   [-6.559665573238796, 0.0010098748904955365],\n",
       "   [-3.8715986811557137, 0.03281783252181363],\n",
       "   [-1.1835317890726316, 0.1653144276288962],\n",
       "   [1.5045351030104506, 0.14694270802755127],\n",
       "   [4.192601995093533, 0.02236763720342828],\n",
       "   [6.880668887176615, 0.0009216721803260088],\n",
       "   [9.568735779259697, 2.4470309765166257e-10],\n",
       "   [12.25680267134278, 7.864366079995909e-55]]},\n",
       " {'key': 'data1',\n",
       "  'density': [[-26.007668036920933, 0.0],\n",
       "   [-20.480713070694406, 0.0],\n",
       "   [-14.95375810446788, 2.3925975529482615e-158],\n",
       "   [-9.426803138241354, 6.642451313753895e-12],\n",
       "   [-3.8998481720148277, 0.0320280057528034],\n",
       "   [1.6271067942116986, 0.1393720011977916],\n",
       "   [7.154061760438225, 0.0005630727618044135],\n",
       "   [12.681016726664751, 5.853773879552522e-66],\n",
       "   [18.207971692891277, 2.9717297403e-313],\n",
       "   [23.734926659117804, 0.0]]}]"
      ]
     },
     "execution_count": 8,
     "metadata": {},
     "output_type": "execute_result"
    }
   ],
   "source": [
    "from numpy import linspace, min, max, random, std\n",
    "from scipy.stats import gaussian_kde\n",
    "\n",
    "data1 = list(random.normal(0,2,25000))\n",
    "data2 = list(random.normal(0,4,25000))\n",
    "\n",
    "data = [data1, data2]\n",
    "\n",
    "DATA=[]\n",
    "STATS = {}\n",
    "for i,d in enumerate(data):\n",
    "    thresholds = linspace(min(d)-2*std(d), max(d)+2*std(d), 10)\n",
    "    density_profile = gaussian_kde(data[0]).evaluate(thresholds)\n",
    "    DATA.append({\"key\": f\"data{i}\", \"density\": list(map(list, zip(thresholds, density_profile)))})\n",
    "    # STATS[f\"data{i}\"]=\n",
    "DATA\n",
    "\n"
   ]
  },
  {
   "cell_type": "code",
   "execution_count": 9,
   "metadata": {},
   "outputs": [
    {
     "name": "stdout",
     "output_type": "stream",
     "text": [
      "... wrote paper_1.html\n",
      "... wrote paper_1.html\n"
     ]
    }
   ],
   "source": [
    "from jinja2 import Environment, FileSystemLoader\n",
    "\n",
    "environment = Environment(loader=FileSystemLoader(\"\"))\n",
    "template = environment.get_template(\"paper.html\")\n",
    "\n",
    "\n",
    "for student in data:\n",
    "    filename = f\"paper_1.html\"\n",
    "    content = template.render(\n",
    "        data=DATA\n",
    "    )\n",
    "    with open(filename, mode=\"w\", encoding=\"utf-8\") as message:\n",
    "        message.write(content)\n",
    "        print(f\"... wrote {filename}\")"
   ]
  },
  {
   "cell_type": "code",
   "execution_count": null,
   "metadata": {},
   "outputs": [],
   "source": []
  }
 ],
 "metadata": {
  "kernelspec": {
   "display_name": "Python 3.10.4 64-bit",
   "language": "python",
   "name": "python3"
  },
  "language_info": {
   "codemirror_mode": {
    "name": "ipython",
    "version": 3
   },
   "file_extension": ".py",
   "mimetype": "text/x-python",
   "name": "python",
   "nbconvert_exporter": "python",
   "pygments_lexer": "ipython3",
   "version": "3.10.4"
  },
  "orig_nbformat": 4,
  "vscode": {
   "interpreter": {
    "hash": "26de051ba29f2982a8de78e945f0abaf191376122a1563185a90213a26c5da77"
   }
  }
 },
 "nbformat": 4,
 "nbformat_minor": 2
}
